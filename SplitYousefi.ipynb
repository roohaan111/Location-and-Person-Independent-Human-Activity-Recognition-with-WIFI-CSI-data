{
 "cells": [
  {
   "cell_type": "code",
   "execution_count": 1,
   "metadata": {},
   "outputs": [
    {
     "name": "stdout",
     "output_type": "stream",
     "text": [
      "Data split complete!\n",
      "Training set size: 5688 samples\n",
      "Test set size: 1423 samples\n",
      "\n",
      "Files saved in:\n",
      "Train directory: ./Yousefi/Structured/train\n",
      "Test directory: ./Yousefi/Structured/test\n",
      "\n",
      "Data shapes:\n",
      "X_train shape: (5688, 90000)\n",
      "Y_train shape: (5688, 8)\n",
      "X_test shape: (1423, 90000)\n",
      "Y_test shape: (1423, 8)\n"
     ]
    }
   ],
   "source": [
    "import numpy as np\n",
    "from sklearn.model_selection import train_test_split\n",
    "import os\n",
    "\n",
    "def split_and_save_data(x_path, y_path, output_root, test_size=0.2, random_state=42):\n",
    "    \"\"\"\n",
    "    Load data from X and Y files, split into train/test sets, and save to appropriate directories.\n",
    "    \n",
    "    Args:\n",
    "        x_path (str): Path to X data file\n",
    "        y_path (str): Path to Y data file\n",
    "        output_root (str): Root directory for output\n",
    "        test_size (float): Proportion of dataset to include in the test split\n",
    "        random_state (int): Random state for reproducibility\n",
    "    \"\"\"\n",
    "    # Load the data\n",
    "    X = np.genfromtxt(x_path, delimiter=',')\n",
    "    Y = np.genfromtxt(y_path, delimiter=',')\n",
    "    \n",
    "    # Split the data\n",
    "    X_train, X_test, Y_train, Y_test = train_test_split(\n",
    "        X, Y, \n",
    "        test_size=test_size, \n",
    "        random_state=random_state,\n",
    "        shuffle=True  # Ensure data is shuffled\n",
    "    )\n",
    "    \n",
    "    # Create directory structure\n",
    "    train_dir = os.path.join(output_root, 'train')\n",
    "    test_dir = os.path.join(output_root, 'test')\n",
    "    \n",
    "    # Create directories if they don't exist\n",
    "    os.makedirs(train_dir, exist_ok=True)\n",
    "    os.makedirs(test_dir, exist_ok=True)\n",
    "    \n",
    "    # Save the split datasets\n",
    "    np.savetxt(os.path.join(train_dir, 'X.csv'), X_train, delimiter=',')\n",
    "    np.savetxt(os.path.join(train_dir, 'Y.csv'), Y_train, delimiter=',')\n",
    "    np.savetxt(os.path.join(test_dir, 'X.csv'), X_test, delimiter=',')\n",
    "    np.savetxt(os.path.join(test_dir, 'Y.csv'), Y_test, delimiter=',')\n",
    "    \n",
    "    # Print information about the split\n",
    "    print(f\"Data split complete!\")\n",
    "    print(f\"Training set size: {len(X_train)} samples\")\n",
    "    print(f\"Test set size: {len(X_test)} samples\")\n",
    "    print(f\"\\nFiles saved in:\")\n",
    "    print(f\"Train directory: {train_dir}\")\n",
    "    print(f\"Test directory: {test_dir}\")\n",
    "\n",
    "    # Verify the shapes\n",
    "    print(f\"\\nData shapes:\")\n",
    "    print(f\"X_train shape: {X_train.shape}\")\n",
    "    print(f\"Y_train shape: {Y_train.shape}\")\n",
    "    print(f\"X_test shape: {X_test.shape}\")\n",
    "    print(f\"Y_test shape: {Y_test.shape}\")\n",
    "\n",
    "# Usage example:\n",
    "if __name__ == \"__main__\":\n",
    "    # Replace these paths with your actual paths\n",
    "    x_path = \"./Yousefi/input_files/xx_1000_60_fall.csv\"\n",
    "    y_path = \"./Yousefi/input_files/yy_1000_60_fall.csv\"\n",
    "    output_root = \"./Yousefi/Structured\"\n",
    "    \n",
    "    split_and_save_data(x_path, y_path, output_root)"
   ]
  }
 ],
 "metadata": {
  "kernelspec": {
   "display_name": "base",
   "language": "python",
   "name": "python3"
  },
  "language_info": {
   "codemirror_mode": {
    "name": "ipython",
    "version": 3
   },
   "file_extension": ".py",
   "mimetype": "text/x-python",
   "name": "python",
   "nbconvert_exporter": "python",
   "pygments_lexer": "ipython3",
   "version": "3.11.5"
  }
 },
 "nbformat": 4,
 "nbformat_minor": 2
}
